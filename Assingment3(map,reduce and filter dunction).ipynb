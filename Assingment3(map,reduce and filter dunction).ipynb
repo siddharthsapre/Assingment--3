{
 "cells": [
  {
   "cell_type": "markdown",
   "id": "ce2650a6-2ae0-4439-bd58-d11d926ec09d",
   "metadata": {},
   "source": [
    "Q1. Create a python program to sort the given list of tuples based on integer value using a\n",
    "lambda function.\n",
    "[('Sachin Tendulkar', 34357), ('Ricky Ponting', 27483), ('Jack Kallis', 25534), ('Virat Kohli', 24936)]"
   ]
  },
  {
   "cell_type": "code",
   "execution_count": null,
   "id": "02eeb802-30d0-4977-b29a-09a9a3a68922",
   "metadata": {},
   "outputs": [],
   "source": [
    "s=([('Sachin Tendulkar', 34357), ('Ricky Ponting', 27483), ('Jack Kallis', 25534), ('Virat Kohli', 24936)])\n",
    "\n",
    "sorted_all=sorted(s,key=lambda x:x[1])\n",
    "\n",
    "for i in sorted_all:\n",
    "    print(i)\n"
   ]
  },
  {
   "cell_type": "markdown",
   "id": "b1e7034f-c0fe-4c31-aa4c-a1b46e9a2e79",
   "metadata": {},
   "source": [
    "Q2. Write a Python Program to find the squares of all the numbers in the given list of integers using\n",
    "lambda and map functions.\n",
    "[1, 2, 3, 4, 5, 6, 7, 8, 9, 10]"
   ]
  },
  {
   "cell_type": "code",
   "execution_count": null,
   "id": "cc64dce2-bd41-488d-a409-49b8dd43b4bb",
   "metadata": {},
   "outputs": [],
   "source": [
    "\n",
    "l=[1, 2, 3, 4, 5, 6, 7, 8, 9, 10]\n",
    "list(map(lambda x:x**2,l))"
   ]
  },
  {
   "cell_type": "markdown",
   "id": "bdaa2c00-bcc5-4f08-b535-34814df24ad6",
   "metadata": {},
   "source": [
    "Q3. Write a python program to convert the given list of integers into a tuple of strings. Use map and\n",
    "lambda functions\n",
    "Given String: [1, 2, 3, 4, 5, 6, 7, 8, 9, 10]\n",
    "Expected output: ('1', '2', '3', '4', '5', '6', '7', '8', '9', '10')"
   ]
  },
  {
   "cell_type": "code",
   "execution_count": null,
   "id": "e3a75bf3-059f-4aff-b318-021105f2c160",
   "metadata": {},
   "outputs": [],
   "source": [
    "\n",
    "A=[1, 2, 3, 4, 5, 6, 7, 8, 9, 10]\n",
    "tuple(map(lambda x: str(x),A))"
   ]
  },
  {
   "cell_type": "markdown",
   "id": "86ad4dec-3c01-422f-85a3-bf484e7e8c03",
   "metadata": {},
   "source": [
    "Q4. Write a python program using reduce function to compute the product of a list containing numbers\n",
    "from 1 to 25."
   ]
  },
  {
   "cell_type": "code",
   "execution_count": null,
   "id": "710e8cf4-0e13-4349-b3d3-43a17751b0cf",
   "metadata": {},
   "outputs": [],
   "source": [
    "from functools import reduce\n",
    "\n",
    "\n",
    "l=[1,2,3,4,5,6,7,8,9,10,12,13,14,15,16,17,18,19,20,21,22,23,24,25]\n",
    "def test25(x,y):\n",
    "    return x*y\n",
    "    \n",
    "reduce(test25,l)"
   ]
  },
  {
   "cell_type": "code",
   "execution_count": null,
   "id": "a81a4d52-7e28-4995-9e95-26ecfa6814be",
   "metadata": {},
   "outputs": [],
   "source": [
    "reduce(lambda x,y:x*y,l)"
   ]
  },
  {
   "cell_type": "markdown",
   "id": "640a1824-5005-40cc-86b9-7531e81d24f5",
   "metadata": {},
   "source": [
    "Q5. Write a python program to filter the numbers in a given list that are divisible by 2 and 3 using the\n",
    "filter function.\n",
    "[2, 3, 6, 9, 27, 60, 90, 120, 55, 46]"
   ]
  },
  {
   "cell_type": "code",
   "execution_count": null,
   "id": "fc4d6613-e0a3-43a5-b39b-c9e8ab8da257",
   "metadata": {},
   "outputs": [],
   "source": [
    "\n",
    "l=[2, 3, 6, 9, 27, 60, 90, 120, 55, 46]\n",
    "def test31(n):\n",
    "    if n%2==0 and n%3==0:\n",
    "        return n\n",
    "    \n",
    "list(filter(test31,l))"
   ]
  },
  {
   "cell_type": "markdown",
   "id": "7b1eec95-34a4-44ff-a045-fb0ef396cf41",
   "metadata": {},
   "source": [
    "Q6. Write a python program to find palindromes in the given list of strings using lambda and filter\n",
    "function.\n",
    "['python', 'php', 'aba', 'radar', 'level']\n",
    "l=['python', 'php', 'aba', 'radar', 'level']"
   ]
  },
  {
   "cell_type": "code",
   "execution_count": null,
   "id": "47721b8b-3c95-4812-a79d-b60d926cf45f",
   "metadata": {},
   "outputs": [],
   "source": [
    "\n",
    "list(filter(lambda x: x==x[::-1],l))"
   ]
  },
  {
   "cell_type": "code",
   "execution_count": null,
   "id": "e293ec6c-79a1-4496-b407-970a814a70f9",
   "metadata": {},
   "outputs": [],
   "source": []
  },
  {
   "cell_type": "code",
   "execution_count": null,
   "id": "40468bcf-b6d9-48aa-abdd-5b3ed783b1b8",
   "metadata": {},
   "outputs": [],
   "source": []
  }
 ],
 "metadata": {
  "kernelspec": {
   "display_name": "Python 3 (ipykernel)",
   "language": "python",
   "name": "python3"
  },
  "language_info": {
   "codemirror_mode": {
    "name": "ipython",
    "version": 3
   },
   "file_extension": ".py",
   "mimetype": "text/x-python",
   "name": "python",
   "nbconvert_exporter": "python",
   "pygments_lexer": "ipython3",
   "version": "3.10.6"
  }
 },
 "nbformat": 4,
 "nbformat_minor": 5
}
